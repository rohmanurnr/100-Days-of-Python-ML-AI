{
 "cells": [
  {
   "cell_type": "code",
   "execution_count": null,
   "id": "68a7a41f-46e7-4dbf-ba67-d5f2f35f1522",
   "metadata": {},
   "outputs": [],
   "source": []
  }
 ],
 "metadata": {
  "kernelspec": {
   "display_name": "",
   "name": ""
  },
  "language_info": {
   "name": ""
  }
 },
 "nbformat": 4,
 "nbformat_minor": 5
}
