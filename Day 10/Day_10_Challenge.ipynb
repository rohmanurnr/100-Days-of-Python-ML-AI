{
 "cells": [
  {
   "cell_type": "code",
   "execution_count": null,
   "id": "acd960f4-2e74-4fa3-b03e-44fbed02e495",
   "metadata": {},
   "outputs": [],
   "source": []
  }
 ],
 "metadata": {
  "kernelspec": {
   "display_name": "",
   "name": ""
  },
  "language_info": {
   "name": ""
  }
 },
 "nbformat": 4,
 "nbformat_minor": 5
}
