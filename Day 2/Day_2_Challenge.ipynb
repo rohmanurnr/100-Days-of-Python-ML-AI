{
 "cells": [
  {
   "cell_type": "markdown",
   "id": "0bfa624f-1eee-45b7-9f53-c62ed4365006",
   "metadata": {},
   "source": [
    "# Variabel"
   ]
  },
  {
   "cell_type": "code",
   "execution_count": 1,
   "id": "7ab784a1-d3e1-4aff-a696-94e3ab214052",
   "metadata": {},
   "outputs": [],
   "source": [
    "nama = \"Sobat Berprostech\"\n",
    "usia = 20"
   ]
  },
  {
   "cell_type": "markdown",
   "id": "6749051f-9de2-45e0-af8d-6abb6ec1492a",
   "metadata": {},
   "source": [
    "# Operasi Matematika"
   ]
  },
  {
   "cell_type": "code",
   "execution_count": 2,
   "id": "7dcd86f1-35f6-4de1-8321-571ac1985527",
   "metadata": {},
   "outputs": [
    {
     "name": "stdout",
     "output_type": "stream",
     "text": [
      "8\n"
     ]
    }
   ],
   "source": [
    "hasil = 5 + 3\n",
    "print(hasil)"
   ]
  },
  {
   "cell_type": "markdown",
   "id": "0f9c181a-51e4-4a5f-9ee4-82ea75c08a74",
   "metadata": {},
   "source": [
    "# Fungsi Print"
   ]
  },
  {
   "cell_type": "code",
   "execution_count": 3,
   "id": "527c7db7-39b3-4109-9931-609f5693d129",
   "metadata": {},
   "outputs": [
    {
     "name": "stdout",
     "output_type": "stream",
     "text": [
      "Halo, nama saya Sobat Berprostech dan saya berusia 20 tahun.\n"
     ]
    }
   ],
   "source": [
    "print(f\"Halo, nama saya {nama} dan saya berusia {usia} tahun.\")"
   ]
  },
  {
   "cell_type": "markdown",
   "id": "f9cdc56c-43f5-4958-ac86-14d13629a1ab",
   "metadata": {},
   "source": [
    "# Pangkat"
   ]
  },
  {
   "cell_type": "code",
   "execution_count": 4,
   "id": "0be5af77-f02a-4871-9afd-52182506659a",
   "metadata": {},
   "outputs": [
    {
     "name": "stdout",
     "output_type": "stream",
     "text": [
      "Hasil pangkat: 9\n"
     ]
    }
   ],
   "source": [
    "hasil_pangkat = 3**2\n",
    "print(f\"Hasil pangkat: {hasil_pangkat}\")"
   ]
  },
  {
   "cell_type": "markdown",
   "id": "a642b929-a7c7-4a7b-80d0-888a97738db5",
   "metadata": {},
   "source": [
    "# Modulus"
   ]
  },
  {
   "cell_type": "code",
   "execution_count": 5,
   "id": "be3ec4e8-246b-49a5-91f4-7c42296a79df",
   "metadata": {},
   "outputs": [
    {
     "name": "stdout",
     "output_type": "stream",
     "text": [
      "Hasil modulus: 1\n"
     ]
    }
   ],
   "source": [
    "hasil_modulus = 10%3\n",
    "print(f\"Hasil modulus: {hasil_modulus}\")"
   ]
  },
  {
   "cell_type": "markdown",
   "id": "6dc7d101-46ea-4839-a2ab-54eec07995c8",
   "metadata": {},
   "source": [
    "# Pembagian Bulat"
   ]
  },
  {
   "cell_type": "code",
   "execution_count": 16,
   "id": "b8d6f013-0634-4bb0-9ff0-26322af7fe84",
   "metadata": {},
   "outputs": [
    {
     "name": "stdout",
     "output_type": "stream",
     "text": [
      "Hasil pembagian bulat: 3\n"
     ]
    }
   ],
   "source": [
    "hasil_bagi_bulat = 15//4\n",
    "print(f\"Hasil pembagian bulat: {hasil_bagi_bulat}\")"
   ]
  },
  {
   "cell_type": "markdown",
   "id": "61c383d9-a02d-4267-bdfc-cb11652a7fc2",
   "metadata": {},
   "source": [
    "# Input Pengguna"
   ]
  },
  {
   "cell_type": "code",
   "execution_count": 6,
   "id": "8fd7b78d-83e5-490e-b4d7-000e45942ed8",
   "metadata": {},
   "outputs": [
    {
     "name": "stdin",
     "output_type": "stream",
     "text": [
      "Masukkan nama Anda:  Sobat Berprostech\n",
      "Masukkan usia Anda:  22\n"
     ]
    },
    {
     "name": "stdout",
     "output_type": "stream",
     "text": [
      "Hi Sobat Berprostech, Anda berusia 22 tahun.\n"
     ]
    }
   ],
   "source": [
    "nama = input(\"Masukkan nama Anda: \")\n",
    "usia = int(input(\"Masukkan usia Anda: \"))\n",
    "print(f\"Hi {nama}, Anda berusia {usia} tahun.\")"
   ]
  },
  {
   "cell_type": "code",
   "execution_count": 17,
   "id": "59c95e5a-44f1-4c68-8189-e8aeba464400",
   "metadata": {},
   "outputs": [
    {
     "name": "stdin",
     "output_type": "stream",
     "text": [
      "Siapa nama Anda? Sobat Berprostech\n",
      "Apa hobi Anda? sing\n"
     ]
    },
    {
     "name": "stdout",
     "output_type": "stream",
     "text": [
      "Halo Sobat Berprostech, senang bertemu dengan seorang sing-er!\n"
     ]
    }
   ],
   "source": [
    "nama = input(\"Siapa nama Anda?\")\n",
    "hobi = input(\"Apa hobi Anda?\")\n",
    "print(f\"Halo {nama}, senang bertemu dengan seorang {hobi}-er!\")"
   ]
  },
  {
   "cell_type": "code",
   "execution_count": 18,
   "id": "5a018962-a5a3-4574-bc53-be432df99ab8",
   "metadata": {},
   "outputs": [
    {
     "name": "stdin",
     "output_type": "stream",
     "text": [
      "Masukkan tahun lahir Anda:  2002\n"
     ]
    },
    {
     "name": "stdout",
     "output_type": "stream",
     "text": [
      "Anda berusia 23 tahun\n"
     ]
    }
   ],
   "source": [
    "tahun_lahir = int(input(\"Masukkan tahun lahir Anda: \"))\n",
    "usia = 2025 - tahun_lahir\n",
    "print(f\"Anda berusia {usia} tahun\")"
   ]
  },
  {
   "cell_type": "markdown",
   "id": "0445dd34-bf51-432b-9c33-d52524a95e91",
   "metadata": {},
   "source": [
    "# Percabangan if-else"
   ]
  },
  {
   "cell_type": "code",
   "execution_count": 7,
   "id": "af77c35e-6132-4ead-99f9-ca042a2ca09b",
   "metadata": {},
   "outputs": [
    {
     "name": "stdout",
     "output_type": "stream",
     "text": [
      "Anda sudah cukup dewasa.\n"
     ]
    }
   ],
   "source": [
    "if usia >=18:\n",
    "    print(\"Anda sudah cukup dewasa.\")\n",
    "else:\n",
    "    print(\"Anda masih di bawah umur.\")"
   ]
  },
  {
   "cell_type": "code",
   "execution_count": 25,
   "id": "b6643787-d255-4694-8f68-80f30fade08d",
   "metadata": {},
   "outputs": [
    {
     "name": "stdin",
     "output_type": "stream",
     "text": [
      "Masukkan nilai ujian Anda:  89\n"
     ]
    },
    {
     "name": "stdout",
     "output_type": "stream",
     "text": [
      "Grade: B\n"
     ]
    }
   ],
   "source": [
    "nilai = int(input(\"Masukkan nilai ujian Anda: \"))\n",
    "if nilai >= 90:\n",
    "    print(\"Grade: A\")\n",
    "elif nilai >= 75:\n",
    "    print(\"Grade: B\")\n",
    "elif nilai >= 60:\n",
    "    print(\"Grade: C\")\n",
    "else:\n",
    "    print(\"Grade: D\")"
   ]
  },
  {
   "cell_type": "markdown",
   "id": "a50565d4-2a65-4587-a194-8c02adc2accd",
   "metadata": {},
   "source": [
    "# Mini-Project: Kalkulator Sederhana"
   ]
  },
  {
   "cell_type": "code",
   "execution_count": 15,
   "id": "fe448a9e-cc76-4e88-bb90-e3a64d026bcf",
   "metadata": {},
   "outputs": [
    {
     "name": "stdout",
     "output_type": "stream",
     "text": [
      "Kalkulator Sederhana\n"
     ]
    },
    {
     "name": "stdin",
     "output_type": "stream",
     "text": [
      "Masukkan angka pertama:  50\n",
      "Masukkan angka kedua:  50\n",
      "Masukkan operasi (+, -, *, /):  +\n"
     ]
    },
    {
     "name": "stdout",
     "output_type": "stream",
     "text": [
      "Hasil: 100.0\n"
     ]
    }
   ],
   "source": [
    "print(\"Kalkulator Sederhana\")\n",
    "angka1 = float(input(\"Masukkan angka pertama: \"))\n",
    "angka2 = float(input(\"Masukkan angka kedua: \"))\n",
    "operasi = input(\"Masukkan operasi (+, -, *, /): \")\n",
    "\n",
    "if operasi == \"+\":\n",
    "    print(f\"Hasil: {angka1 + angka2}\")\n",
    "elif operasi == \"-\":\n",
    "    print(f\"Hasil: {angka1 - angka2}\")\n",
    "elif operasi == \"*\":\n",
    "    print(f\"Hasil: {angka1 * angka2}\")\n",
    "elif operasi == \"/\":\n",
    "    if angka2 != 0:\n",
    "        print(f\"Hasil: {angka1 / angka2}\")\n",
    "    else:\n",
    "        print(\"Tidak bisa membagi dengan nol\")\n",
    "else:\n",
    "    print(\"Operasi tidak valid\")"
   ]
  },
  {
   "cell_type": "markdown",
   "id": "116013c3-78ca-4a81-aa37-aa857484419a",
   "metadata": {},
   "source": [
    "# Format String & F-String"
   ]
  },
  {
   "cell_type": "code",
   "execution_count": 28,
   "id": "881d0a8b-2499-46b9-99bb-daaa5648c1f7",
   "metadata": {},
   "outputs": [
    {
     "name": "stdout",
     "output_type": "stream",
     "text": [
      "Halo, nama saya Sobat Berprostech dan usia saya 25 tahun.\n",
      "Halo, nama saya Sobat Berprostech dan usia saya 25 tahun.\n"
     ]
    }
   ],
   "source": [
    "nama = \"Sobat Berprostech\"\n",
    "usia = 25\n",
    "print(\"Halo, nama saya {} dan usia saya {} tahun.\".format(nama,usia))\n",
    "print(f\"Halo, nama saya {nama} dan usia saya {usia} tahun.\")"
   ]
  },
  {
   "cell_type": "markdown",
   "id": "e8628dfa-ce36-46bc-a392-dfa4561ad245",
   "metadata": {},
   "source": [
    "# Menghitung Luas Bangun Datar"
   ]
  },
  {
   "cell_type": "code",
   "execution_count": 31,
   "id": "a7bffda3-1771-4eb1-a171-55d230df6c0f",
   "metadata": {},
   "outputs": [
    {
     "name": "stdin",
     "output_type": "stream",
     "text": [
      "Masukkan jari-jari lingkaran:  10\n"
     ]
    },
    {
     "name": "stdout",
     "output_type": "stream",
     "text": [
      "Luas lingkaran: 314.0\n"
     ]
    }
   ],
   "source": [
    "#Luas Lingkaran\n",
    "jari_jari = float(input(\"Masukkan jari-jari lingkaran: \"))\n",
    "luas = 3.14 * jari_jari**2\n",
    "print(f\"Luas lingkaran: {luas}\")"
   ]
  },
  {
   "cell_type": "code",
   "execution_count": 32,
   "id": "754e6a5f-b587-419e-b9ad-decdd8c674a4",
   "metadata": {},
   "outputs": [
    {
     "name": "stdin",
     "output_type": "stream",
     "text": [
      "Masukkan panjang alas:  9\n",
      "Masukkan tinggi segitiga:  5\n"
     ]
    },
    {
     "name": "stdout",
     "output_type": "stream",
     "text": [
      "Luas segitiga: 22.5\n"
     ]
    }
   ],
   "source": [
    "#Luas Segitiga\n",
    "alas = float(input(\"Masukkan panjang alas: \"))\n",
    "tinggi = float(input(\"Masukkan tinggi segitiga: \"))\n",
    "luas = 0.5 * alas * tinggi\n",
    "print(f\"Luas segitiga: {luas}\")"
   ]
  },
  {
   "cell_type": "markdown",
   "id": "b2951ce1-97f2-4aa7-aaae-6046a3586aaa",
   "metadata": {},
   "source": [
    "# Latihan Logika: Tebak Angka"
   ]
  },
  {
   "cell_type": "code",
   "execution_count": null,
   "id": "2a1bdd88-d489-428d-9447-09ff01c2b4c3",
   "metadata": {},
   "outputs": [],
   "source": [
    "import random\n",
    "\n",
    "angka_rahasia = random.randint(1,10)\n",
    "tebakan = int(input(\"Tebak angka antara 1-10: \"))\n",
    "\n",
    "if tebakan == angka_rahasia:\n",
    "    print(\"Tebakan Anda benar!\")\n",
    "else: \n",
    "    print(f\"Salah! Angka yang benar adalah {angka_rahasia}.\")"
   ]
  }
 ],
 "metadata": {
  "kernelspec": {
   "display_name": "Python 3 (ipykernel)",
   "language": "python",
   "name": "python3"
  },
  "language_info": {
   "codemirror_mode": {
    "name": "ipython",
    "version": 3
   },
   "file_extension": ".py",
   "mimetype": "text/x-python",
   "name": "python",
   "nbconvert_exporter": "python",
   "pygments_lexer": "ipython3",
   "version": "3.9.20"
  }
 },
 "nbformat": 4,
 "nbformat_minor": 5
}
