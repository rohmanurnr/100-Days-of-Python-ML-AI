{
 "cells": [
  {
   "cell_type": "code",
   "execution_count": null,
   "id": "c3661533-c139-44b4-8a75-2f227b5c4b86",
   "metadata": {},
   "outputs": [],
   "source": []
  }
 ],
 "metadata": {
  "kernelspec": {
   "display_name": "",
   "name": ""
  },
  "language_info": {
   "name": ""
  }
 },
 "nbformat": 4,
 "nbformat_minor": 5
}
