{
 "cells": [
  {
   "cell_type": "code",
   "execution_count": 1,
   "id": "0c1e43e6-7064-476c-86b2-cda2d53e141f",
   "metadata": {},
   "outputs": [
    {
     "name": "stdout",
     "output_type": "stream",
     "text": [
      "Dataset:\n",
      "      Nama  Nilai\n",
      "0     Ayu     78\n",
      "1    Budi     85\n",
      "2   Citra     62\n",
      "3    Dedi     74\n",
      "4     Eka     88\n",
      "5    Fani     90\n",
      "6  Gilang     67\n",
      "7    Hadi     72\n",
      "8   Indah     85\n",
      "9    Joko     81\n"
     ]
    }
   ],
   "source": [
    "import pandas as pd\n",
    "import numpy as np\n",
    "import matplotlib.pyplot as plt\n",
    "\n",
    "data = {\n",
    "    'Nama': ['Ayu', 'Budi', 'Citra', 'Dedi', 'Eka', 'Fani', 'Gilang', 'Hadi', 'Indah', 'Joko'],\n",
    "    'Nilai': [78, 85, 62, 74, 88, 90, 67, 72, 85, 81]\n",
    "}\n",
    "df = pd.DataFrame(data)\n",
    "print(\"Dataset:\\n\", df)"
   ]
  }
 ],
 "metadata": {
  "kernelspec": {
   "display_name": "Python 3 (ipykernel)",
   "language": "python",
   "name": "python3"
  },
  "language_info": {
   "codemirror_mode": {
    "name": "ipython",
    "version": 3
   },
   "file_extension": ".py",
   "mimetype": "text/x-python",
   "name": "python",
   "nbconvert_exporter": "python",
   "pygments_lexer": "ipython3",
   "version": "3.9.20"
  }
 },
 "nbformat": 4,
 "nbformat_minor": 5
}
