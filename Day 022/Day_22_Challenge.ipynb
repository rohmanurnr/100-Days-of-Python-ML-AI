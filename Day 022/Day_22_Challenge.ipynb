{
 "cells": [
  {
   "cell_type": "code",
   "execution_count": 1,
   "id": "ecd6c20f-cad5-4fa5-a677-0c91cba29de9",
   "metadata": {},
   "outputs": [
    {
     "name": "stdout",
     "output_type": "stream",
     "text": [
      "Dataset:\n",
      "    Waktu Belajar (Jam)  Nilai\n",
      "0                    1     50\n",
      "1                    2     55\n",
      "2                    3     60\n",
      "3                    4     65\n",
      "4                    5     70\n",
      "5                    6     75\n",
      "6                    7     80\n",
      "7                    8     85\n"
     ]
    }
   ],
   "source": [
    "import pandas as pd\n",
    "import numpy as np\n",
    "\n",
    "data = {\n",
    "    \"Waktu Belajar (Jam)\": [1, 2, 3, 4, 5, 6, 7, 8],\n",
    "    \"Nilai\": [50, 55, 60, 65, 70, 75, 80, 85]\n",
    "}\n",
    "df = pd.DataFrame(data)\n",
    "print(\"Dataset:\\n\", df)"
   ]
  },
  {
   "cell_type": "code",
   "execution_count": 2,
   "id": "6b50c175-0c31-43e5-a6c7-ce5a9249d582",
   "metadata": {},
   "outputs": [
    {
     "name": "stdout",
     "output_type": "stream",
     "text": [
      "Training Data:\n",
      "    Waktu Belajar (Jam)\n",
      "0                    1\n",
      "7                    8\n",
      "2                    3\n",
      "4                    5\n",
      "3                    4\n",
      "6                    7\n",
      "Testing Data:\n",
      "    Waktu Belajar (Jam)\n",
      "1                    2\n",
      "5                    6\n"
     ]
    }
   ],
   "source": [
    "from sklearn.model_selection import train_test_split\n",
    "\n",
    "X = df[[\"Waktu Belajar (Jam)\"]]\n",
    "y = df[\"Nilai\"]\n",
    "\n",
    "X_train, X_test, y_train, y_test = train_test_split(X, y, test_size=0.2, random_state=42)\n",
    "\n",
    "print(\"Training Data:\\n\", X_train)\n",
    "print(\"Testing Data:\\n\", X_test)"
   ]
  },
  {
   "cell_type": "code",
   "execution_count": 3,
   "id": "359b85a8-780e-43ac-a1a5-ba32e39ace3d",
   "metadata": {},
   "outputs": [
    {
     "name": "stdout",
     "output_type": "stream",
     "text": [
      "Koefisien (m): 4.999999999999999\n",
      "Intercept (c): 45.0\n"
     ]
    }
   ],
   "source": [
    "from sklearn.linear_model import LinearRegression\n",
    "\n",
    "model = LinearRegression()\n",
    "model.fit(X_train, y_train)\n",
    "\n",
    "print(\"Koefisien (m):\", model.coef_[0])\n",
    "print(\"Intercept (c):\", model.intercept_)"
   ]
  },
  {
   "cell_type": "code",
   "execution_count": 4,
   "id": "e5ccd956-376f-4f53-a8a9-64756a55d4ef",
   "metadata": {},
   "outputs": [
    {
     "name": "stdout",
     "output_type": "stream",
     "text": [
      "Mean Squared Error (MSE): 0.0\n",
      "R-squared (R^2): 1.0\n"
     ]
    }
   ],
   "source": [
    "from sklearn.metrics import mean_squared_error, r2_score\n",
    "\n",
    "y_pred = model.predict(X_test)\n",
    "\n",
    "mse = mean_squared_error(y_test, y_pred)\n",
    "r2 = r2_score(y_test, y_pred)\n",
    "\n",
    "print(\"Mean Squared Error (MSE):\", mse)\n",
    "print(\"R-squared (R^2):\", r2)"
   ]
  },
  {
   "cell_type": "code",
   "execution_count": 5,
   "id": "2ade34ca-c777-4f94-8996-bc9d89f852f0",
   "metadata": {},
   "outputs": [
    {
     "ename": "SyntaxError",
     "evalue": "invalid character '‘' (U+2018) (1329418355.py, line 11)",
     "output_type": "error",
     "traceback": [
      "\u001b[1;36m  Cell \u001b[1;32mIn[5], line 11\u001b[1;36m\u001b[0m\n\u001b[1;33m    plt.savefig(‘22_01.png', format='png', dpi=300)\u001b[0m\n\u001b[1;37m                ^\u001b[0m\n\u001b[1;31mSyntaxError\u001b[0m\u001b[1;31m:\u001b[0m invalid character '‘' (U+2018)\n"
     ]
    }
   ],
   "source": [
    "import matplotlib.pyplot as plt\n",
    "\n",
    "plt.figure(figsize=(8, 6))\n",
    "plt.scatter(X, y, color='blue', label='Data Asli')  # Data asli\n",
    "plt.plot(X, model.predict(X), color='red', label='Garis Regresi')  # Garis regresi\n",
    "plt.title(\"Linear Regression: Waktu Belajar vs Nilai\")\n",
    "plt.xlabel(\"Waktu Belajar (Jam)\")\n",
    "plt.ylabel(\"Nilai\")\n",
    "plt.legend()\n",
    "plt.grid()\n",
    "plt.savefig(‘22_01.png', format='png', dpi=300)\n",
    "plt.show()"
   ]
  }
 ],
 "metadata": {
  "kernelspec": {
   "display_name": "Python 3 (ipykernel)",
   "language": "python",
   "name": "python3"
  },
  "language_info": {
   "codemirror_mode": {
    "name": "ipython",
    "version": 3
   },
   "file_extension": ".py",
   "mimetype": "text/x-python",
   "name": "python",
   "nbconvert_exporter": "python",
   "pygments_lexer": "ipython3",
   "version": "3.9.20"
  }
 },
 "nbformat": 4,
 "nbformat_minor": 5
}
