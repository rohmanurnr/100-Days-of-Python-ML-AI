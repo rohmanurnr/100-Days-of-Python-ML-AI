{
 "cells": [
  {
   "cell_type": "code",
   "execution_count": 1,
   "id": "41cd5997-b570-425d-872a-a21def99324d",
   "metadata": {},
   "outputs": [
    {
     "name": "stdout",
     "output_type": "stream",
     "text": [
      "Dataset Asli:\n",
      "      Nama Warna Favorit Tingkat Pendidikan\n",
      "0    Alice         Merah                SMA\n",
      "1      Bob         Hijau                 D3\n",
      "2  Charlie          Biru                 S1\n",
      "3    David         Merah                SMA\n",
      "4      Eve         Hijau                 S1\n"
     ]
    }
   ],
   "source": [
    "import pandas as pd\n",
    "\n",
    "data = {\n",
    "    'Nama': ['Alice', 'Bob', 'Charlie', 'David', 'Eve'],\n",
    "    'Warna Favorit': ['Merah', 'Hijau', 'Biru', 'Merah', 'Hijau'],\n",
    "    'Tingkat Pendidikan': ['SMA', 'D3', 'S1', 'SMA', 'S1']\n",
    "}\n",
    "\n",
    "df = pd.DataFrame(data)\n",
    "print(\"Dataset Asli:\")\n",
    "print(df)"
   ]
  },
  {
   "cell_type": "code",
   "execution_count": 2,
   "id": "19a937e4-80a6-4af4-a10f-75cb58eb9d8d",
   "metadata": {},
   "outputs": [
    {
     "name": "stdout",
     "output_type": "stream",
     "text": [
      "\n",
      "Dataset Setelah One-Hot Encoding:\n",
      "      Nama  Warna_Biru  Warna_Hijau  Warna_Merah  Pendidikan_D3  \\\n",
      "0    Alice       False        False         True          False   \n",
      "1      Bob       False         True        False           True   \n",
      "2  Charlie        True        False        False          False   \n",
      "3    David       False        False         True          False   \n",
      "4      Eve       False         True        False          False   \n",
      "\n",
      "   Pendidikan_S1  Pendidikan_SMA  \n",
      "0          False            True  \n",
      "1          False           False  \n",
      "2           True           False  \n",
      "3          False            True  \n",
      "4           True           False  \n"
     ]
    }
   ],
   "source": [
    "df_encoded = pd.get_dummies(df, columns=['Warna Favorit', 'Tingkat Pendidikan'], prefix=['Warna', 'Pendidikan'])\n",
    "\n",
    "print(\"\\nDataset Setelah One-Hot Encoding:\")\n",
    "print(df_encoded)"
   ]
  },
  {
   "cell_type": "code",
   "execution_count": 3,
   "id": "6401afbb-ccbd-4af6-be69-92a62edf637f",
   "metadata": {},
   "outputs": [],
   "source": [
    "df_encoded.to_csv(\"dataset_encoded.csv\", index=False)"
   ]
  }
 ],
 "metadata": {
  "kernelspec": {
   "display_name": "Python 3 (ipykernel)",
   "language": "python",
   "name": "python3"
  },
  "language_info": {
   "codemirror_mode": {
    "name": "ipython",
    "version": 3
   },
   "file_extension": ".py",
   "mimetype": "text/x-python",
   "name": "python",
   "nbconvert_exporter": "python",
   "pygments_lexer": "ipython3",
   "version": "3.9.20"
  }
 },
 "nbformat": 4,
 "nbformat_minor": 5
}
