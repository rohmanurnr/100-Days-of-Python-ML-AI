{
 "cells": [
  {
   "cell_type": "markdown",
   "id": "85f1b0ee-75cb-41e2-a8a2-8dcdbda3ccfc",
   "metadata": {},
   "source": [
    "# Mengenal List, Tuple, dan Dictionary"
   ]
  },
  {
   "cell_type": "code",
   "execution_count": 1,
   "id": "e54c1451-fbe1-42ab-8580-726f04883dfd",
   "metadata": {},
   "outputs": [],
   "source": [
    "#List"
   ]
  },
  {
   "cell_type": "code",
   "execution_count": 2,
   "id": "cc12a88a-374f-4d43-8687-7e77752b88c9",
   "metadata": {},
   "outputs": [
    {
     "name": "stdout",
     "output_type": "stream",
     "text": [
      "Daftar buah: ['apel', 'jeruk', 'mangga', 'pisang']\n"
     ]
    }
   ],
   "source": [
    "buah = ['apel', 'jeruk','mangga']\n",
    "buah.append('pisang')\n",
    "print(f\"Daftar buah: {buah}\")"
   ]
  },
  {
   "cell_type": "code",
   "execution_count": 3,
   "id": "17b3dca9-a2f2-4707-a296-556f727350fb",
   "metadata": {},
   "outputs": [],
   "source": [
    "#Tuple"
   ]
  },
  {
   "cell_type": "code",
   "execution_count": 4,
   "id": "4538f940-a56a-470c-acae-94592fca5ee5",
   "metadata": {},
   "outputs": [
    {
     "name": "stdout",
     "output_type": "stream",
     "text": [
      "Hari dalam seminggu: ('Senin', 'Selasa', 'Rabu')\n"
     ]
    }
   ],
   "source": [
    "hari = ('Senin','Selasa','Rabu')\n",
    "print(f\"Hari dalam seminggu: {hari}\")"
   ]
  },
  {
   "cell_type": "code",
   "execution_count": 5,
   "id": "ede409ba-5495-4d0a-b204-c1031488f16c",
   "metadata": {},
   "outputs": [],
   "source": [
    "#Dictionary"
   ]
  },
  {
   "cell_type": "code",
   "execution_count": 6,
   "id": "d2faf068-1688-4c0d-af34-edfc152cd028",
   "metadata": {},
   "outputs": [
    {
     "name": "stdout",
     "output_type": "stream",
     "text": [
      "Data kontak: {'Nama': 'Oman', 'Nomor': '08123456789', 'email': 'oman@gmail.com'}\n"
     ]
    }
   ],
   "source": [
    "kontak = {'Nama':'Oman','Nomor':'08123456789'}\n",
    "kontak['email'] = 'oman@gmail.com'\n",
    "print(f\"Data kontak: {kontak}\")"
   ]
  },
  {
   "cell_type": "markdown",
   "id": "7039e119-01c5-4872-9faf-ff63a9a289f5",
   "metadata": {},
   "source": [
    "# Loop dan Logika"
   ]
  },
  {
   "cell_type": "code",
   "execution_count": 8,
   "id": "6f063e19-2006-4ae0-bf70-9dbe4a128e3c",
   "metadata": {},
   "outputs": [],
   "source": [
    "#For loop dengan list"
   ]
  },
  {
   "cell_type": "code",
   "execution_count": 9,
   "id": "37c4219e-b39b-4006-8372-7bdd80be7d31",
   "metadata": {},
   "outputs": [
    {
     "name": "stdout",
     "output_type": "stream",
     "text": [
      "Buah: {item}\n",
      "Buah: {item}\n",
      "Buah: {item}\n",
      "Buah: {item}\n"
     ]
    }
   ],
   "source": [
    "for item in buah:\n",
    "    print(\"Buah: {item}\")"
   ]
  },
  {
   "cell_type": "code",
   "execution_count": 10,
   "id": "6f4cee49-ad34-4dbf-9640-aa3d1dd0a4cf",
   "metadata": {},
   "outputs": [],
   "source": [
    "#While Loop"
   ]
  },
  {
   "cell_type": "code",
   "execution_count": 11,
   "id": "50b7c2f9-ff34-4adf-b593-1c5555739584",
   "metadata": {},
   "outputs": [
    {
     "name": "stdout",
     "output_type": "stream",
     "text": [
      "Countdown: 5\n",
      "Countdown: 4\n",
      "Countdown: 3\n",
      "Countdown: 2\n",
      "Countdown: 1\n"
     ]
    }
   ],
   "source": [
    "angka = 5\n",
    "while angka > 0:\n",
    "    print(f\"Countdown: {angka}\")\n",
    "    angka -= 1"
   ]
  },
  {
   "cell_type": "code",
   "execution_count": 12,
   "id": "115e79e5-322d-4d23-9bbb-d85b81a2bff9",
   "metadata": {},
   "outputs": [],
   "source": [
    "#Percabangan"
   ]
  },
  {
   "cell_type": "code",
   "execution_count": 15,
   "id": "3167cbe1-1b77-487b-b9fa-22f914e532ee",
   "metadata": {},
   "outputs": [
    {
     "name": "stdin",
     "output_type": "stream",
     "text": [
      "Masukkan angka:  5\n"
     ]
    },
    {
     "name": "stdout",
     "output_type": "stream",
     "text": [
      "Angka ganjil\n"
     ]
    }
   ],
   "source": [
    "angka = int(input(\"Masukkan angka: \"))\n",
    "if angka % 2 == 0:\n",
    "    print(\"Angka genap\")\n",
    "else:\n",
    "    print(\"Angka ganjil\")"
   ]
  },
  {
   "cell_type": "markdown",
   "id": "acdbe469-8c2e-46a4-a0e9-96b1a5ce8ab6",
   "metadata": {},
   "source": [
    "# Mini Project: Program Pemilihan Menu Sederhana"
   ]
  },
  {
   "cell_type": "code",
   "execution_count": 18,
   "id": "9991e7ec-e3fd-4c4b-9cfd-1d0a03cbe81b",
   "metadata": {},
   "outputs": [
    {
     "name": "stdout",
     "output_type": "stream",
     "text": [
      "Menu: \n",
      "1. Nasi Goreng\n",
      "2. Mie Goreng\n",
      "3. Soto Ayam\n"
     ]
    },
    {
     "name": "stdin",
     "output_type": "stream",
     "text": [
      "Pilih menut (1/2/3):  3\n"
     ]
    },
    {
     "name": "stdout",
     "output_type": "stream",
     "text": [
      "Anda memilih: Soto Ayam\n"
     ]
    }
   ],
   "source": [
    "menu = {'1':'Nasi Goreng','2':'Mie Goreng','3':'Soto Ayam'}\n",
    "\n",
    "print('Menu: ')\n",
    "for key, value in menu.items():\n",
    "    print(f'{key}. {value}')\n",
    "\n",
    "pilihan = input(\"Pilih menut (1/2/3): \")\n",
    "if pilihan in menu:\n",
    "    print(f\"Anda memilih: {menu[pilihan]}\")\n",
    "else:\n",
    "    print(\"Pilihan tidak valid\")"
   ]
  },
  {
   "cell_type": "markdown",
   "id": "d0261449-f034-495d-af45-4d1ec624a84d",
   "metadata": {},
   "source": [
    "# Challenge"
   ]
  },
  {
   "cell_type": "raw",
   "id": "2c840188-31ae-4e41-a0a7-98e1ca915104",
   "metadata": {},
   "source": [
    "Buat program sederhana yang meminta pengguna memasukkan nama, umur, dan kota, lalu menampilkan kalimat sapaan yang disesuaikan.\n",
    "Contoh output:\n",
    "Halo, Andi!\n",
    "Kamu berumur 25 tahun dan tinggal di Jakarta.\n",
    "Selamat belajar Python di Sobat Berprostech!"
   ]
  },
  {
   "cell_type": "code",
   "execution_count": null,
   "id": "c3e560d9-1c7d-4d59-8caa-8a9b9b0b3883",
   "metadata": {},
   "outputs": [],
   "source": [
    "nama = input(\"Masukkan nama Anda: \")\n",
    "usia = input(\"Masukkan usia Anda: \")\n",
    "kota = input(\"Masukkan kota asal Anda: \")\n"
   ]
  }
 ],
 "metadata": {
  "kernelspec": {
   "display_name": "Python 3 (ipykernel)",
   "language": "python",
   "name": "python3"
  },
  "language_info": {
   "codemirror_mode": {
    "name": "ipython",
    "version": 3
   },
   "file_extension": ".py",
   "mimetype": "text/x-python",
   "name": "python",
   "nbconvert_exporter": "python",
   "pygments_lexer": "ipython3",
   "version": "3.9.20"
  }
 },
 "nbformat": 4,
 "nbformat_minor": 5
}
