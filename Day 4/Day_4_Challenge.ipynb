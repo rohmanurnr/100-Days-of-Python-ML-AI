{
 "cells": [
  {
   "cell_type": "markdown",
   "id": "41667c74-b7a3-4503-8e9c-c962838c48d6",
   "metadata": {},
   "source": [
    "# Instal NumPy"
   ]
  },
  {
   "cell_type": "code",
   "execution_count": 1,
   "id": "390732d2-4df6-4e27-9acd-128229b9507a",
   "metadata": {},
   "outputs": [
    {
     "name": "stdout",
     "output_type": "stream",
     "text": [
      "Requirement already satisfied: NumPy in c:\\users\\hp\\miniconda3\\lib\\site-packages (2.0.2)\n",
      "Note: you may need to restart the kernel to use updated packages.\n"
     ]
    }
   ],
   "source": [
    "pip install NumPy"
   ]
  },
  {
   "cell_type": "markdown",
   "id": "2174885c-9a99-4d57-bb09-83be79180490",
   "metadata": {},
   "source": [
    "# Membuat Array Numpy"
   ]
  },
  {
   "cell_type": "code",
   "execution_count": 2,
   "id": "33195ea1-0034-41ca-9367-530023bcdccc",
   "metadata": {},
   "outputs": [
    {
     "name": "stdout",
     "output_type": "stream",
     "text": [
      "[1 2 3 4 5]\n",
      "[[1 2 3]\n",
      " [4 5 6]]\n"
     ]
    }
   ],
   "source": [
    "import numpy as np\n",
    "\n",
    "#Membuat array 1D\n",
    "array_1d = np.array([1, 2, 3, 4, 5])\n",
    "print(array_1d)\n",
    "\n",
    "#Membuat array 2D\n",
    "array_2d = np.array([[1, 2, 3], [4, 5, 6]])\n",
    "print(array_2d)\n"
   ]
  },
  {
   "cell_type": "markdown",
   "id": "ebc144d0-9cf2-4256-9840-097c498447ec",
   "metadata": {},
   "source": [
    "# Operasi Matematika pada Array Numpy"
   ]
  },
  {
   "cell_type": "code",
   "execution_count": 3,
   "id": "2c632d25-e609-4eda-9697-3fa9363b35a1",
   "metadata": {},
   "outputs": [
    {
     "name": "stdout",
     "output_type": "stream",
     "text": [
      "[5 7 9]\n",
      "[ 4 10 18]\n",
      "[2 4 6]\n"
     ]
    }
   ],
   "source": [
    "import numpy as np\n",
    "a = np.array([1, 2, 3])\n",
    "b = np.array([4, 5, 6])\n",
    "\n",
    "#Penjumlahan array\n",
    "print(a + b)\n",
    "\n",
    "#Perkalian array\n",
    "print(a * b)\n",
    "\n",
    "#Operasi skalar\n",
    "print(a * 2)"
   ]
  },
  {
   "cell_type": "markdown",
   "id": "8557ea71-fd0d-4272-a28d-6169584a2cfa",
   "metadata": {},
   "source": [
    "# Fungsi Statistik di NumPy"
   ]
  },
  {
   "cell_type": "code",
   "execution_count": 7,
   "id": "1d3955de-43fe-482a-ae99-0ffe11f4a38e",
   "metadata": {},
   "outputs": [
    {
     "name": "stdout",
     "output_type": "stream",
     "text": [
      "Mean: 30.0, Median: 30.0, Standard Deviation: 14.142135623730951\n"
     ]
    }
   ],
   "source": [
    "import numpy as np\n",
    "data = np.array([10, 20, 30, 40, 50])\n",
    "\n",
    "mean = np.mean(data)\n",
    "median = np.median(data)\n",
    "std_dev = np.std(data)\n",
    "\n",
    "print(f\"Mean: {mean}, Median: {median}, Standard Deviation: {std_dev}\")"
   ]
  },
  {
   "cell_type": "markdown",
   "id": "c53fdb5b-1669-46ef-96bb-255f87a2dd3a",
   "metadata": {},
   "source": [
    "# Manipulasi Bentuk Array"
   ]
  },
  {
   "cell_type": "code",
   "execution_count": 8,
   "id": "69504149-a329-4fd8-8b51-aa5abaf87336",
   "metadata": {},
   "outputs": [
    {
     "name": "stdout",
     "output_type": "stream",
     "text": [
      "[[1 2 3]\n",
      " [4 5 6]]\n"
     ]
    }
   ],
   "source": [
    "import numpy as np\n",
    "array = np.array([1, 2, 3, 4, 5, 6])\n",
    "\n",
    "#Mengubah bentuk array menjadi 2D\n",
    "reshaped_array = array.reshape(2, 3)\n",
    "print(reshaped_array)"
   ]
  }
 ],
 "metadata": {
  "kernelspec": {
   "display_name": "Python 3 (ipykernel)",
   "language": "python",
   "name": "python3"
  },
  "language_info": {
   "codemirror_mode": {
    "name": "ipython",
    "version": 3
   },
   "file_extension": ".py",
   "mimetype": "text/x-python",
   "name": "python",
   "nbconvert_exporter": "python",
   "pygments_lexer": "ipython3",
   "version": "3.9.20"
  }
 },
 "nbformat": 4,
 "nbformat_minor": 5
}
