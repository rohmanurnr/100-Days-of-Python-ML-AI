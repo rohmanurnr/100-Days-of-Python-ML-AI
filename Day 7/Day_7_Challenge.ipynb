{
 "cells": [
  {
   "cell_type": "markdown",
   "id": "c945a3aa-cc52-4a76-948e-d6eca0b3631e",
   "metadata": {},
   "source": [
    "# Install Library"
   ]
  },
  {
   "cell_type": "code",
   "execution_count": 1,
   "id": "980a0921-7485-4faf-a177-3ca6c094606e",
   "metadata": {},
   "outputs": [
    {
     "name": "stdout",
     "output_type": "stream",
     "text": [
      "Requirement already satisfied: pandas in c:\\users\\hp\\miniconda3\\lib\\site-packages (2.2.3)\n",
      "Requirement already satisfied: openpyxl in c:\\users\\hp\\miniconda3\\lib\\site-packages (3.1.5)\n",
      "Requirement already satisfied: python-dateutil>=2.8.2 in c:\\users\\hp\\miniconda3\\lib\\site-packages (from pandas) (2.9.0.post0)\n",
      "Requirement already satisfied: tzdata>=2022.7 in c:\\users\\hp\\miniconda3\\lib\\site-packages (from pandas) (2024.2)\n",
      "Requirement already satisfied: numpy>=1.22.4 in c:\\users\\hp\\miniconda3\\lib\\site-packages (from pandas) (2.0.2)\n",
      "Requirement already satisfied: pytz>=2020.1 in c:\\users\\hp\\miniconda3\\lib\\site-packages (from pandas) (2024.1)\n",
      "Requirement already satisfied: et-xmlfile in c:\\users\\hp\\miniconda3\\lib\\site-packages (from openpyxl) (2.0.0)\n",
      "Requirement already satisfied: six>=1.5 in c:\\users\\hp\\miniconda3\\lib\\site-packages (from python-dateutil>=2.8.2->pandas) (1.16.0)\n",
      "Note: you may need to restart the kernel to use updated packages.\n"
     ]
    }
   ],
   "source": [
    "pip install pandas openpyxl"
   ]
  },
  {
   "cell_type": "markdown",
   "id": "424f9da8-0e65-473c-9807-102ca9f83914",
   "metadata": {},
   "source": [
    "# Membaca file CSV"
   ]
  },
  {
   "cell_type": "code",
   "execution_count": 2,
   "id": "ce79c837-b5c9-4ed4-a03a-b2f218c2c9ab",
   "metadata": {},
   "outputs": [
    {
     "name": "stdout",
     "output_type": "stream",
     "text": [
      "   sepal.length  sepal.width  petal.length  petal.width variety\n",
      "0           5.1          3.5           1.4          0.2  Setosa\n",
      "1           4.9          3.0           1.4          0.2  Setosa\n",
      "2           4.7          3.2           1.3          0.2  Setosa\n",
      "3           4.6          3.1           1.5          0.2  Setosa\n",
      "4           5.0          3.6           1.4          0.2  Setosa\n"
     ]
    }
   ],
   "source": [
    "import pandas as pd\n",
    "\n",
    "df_csv = pd.read_csv('iris.csv')  # Ganti dengan path file CSV Anda\n",
    "print(df_csv.head())"
   ]
  },
  {
   "cell_type": "markdown",
   "id": "292a14a6-b670-4744-9b3a-b56ed1be1d33",
   "metadata": {},
   "source": [
    "# Membaca file Excel"
   ]
  },
  {
   "cell_type": "code",
   "execution_count": 4,
   "id": "fc001e8f-0efc-4ebc-94ee-998660ed10bc",
   "metadata": {
    "scrolled": true
   },
   "outputs": [
    {
     "name": "stdout",
     "output_type": "stream",
     "text": [
      "   sepal.length  sepal.width  petal.length  petal.width variety\n",
      "0           5.1          3.5           1.4          0.2  Setosa\n",
      "1           4.9          3.0           1.4          0.2  Setosa\n",
      "2           4.7          3.2           1.3          0.2  Setosa\n",
      "3           4.6          3.1           1.5          0.2  Setosa\n",
      "4           5.0          3.6           1.4          0.2  Setosa\n"
     ]
    }
   ],
   "source": [
    "import pandas as pd\n",
    "\n",
    "df_excel = pd.read_excel('iris.xlsx')  # Ganti dengan path file Excel Anda\n",
    "print(df_excel.head())"
   ]
  },
  {
   "cell_type": "markdown",
   "id": "1acba751-7fb2-441e-9e4c-5053f6d4afb0",
   "metadata": {},
   "source": [
    "# Menyimpan DataFrame ke CSV"
   ]
  },
  {
   "cell_type": "code",
   "execution_count": 5,
   "id": "cc11a087-26e3-4b12-ad56-c5ffcd588ea8",
   "metadata": {},
   "outputs": [
    {
     "name": "stdout",
     "output_type": "stream",
     "text": [
      "Data berhasil disimpan ke output_data.csv\n"
     ]
    }
   ],
   "source": [
    "df_csv.to_csv('output_data.csv', index=False)\n",
    "print(\"Data berhasil disimpan ke output_data.csv\")"
   ]
  },
  {
   "cell_type": "markdown",
   "id": "3da64b0c-1ae6-492d-a006-9c75e4d0d624",
   "metadata": {},
   "source": [
    "# Menyimpan DataFrame ke Excel"
   ]
  },
  {
   "cell_type": "code",
   "execution_count": 6,
   "id": "83196224-41e2-4643-b5d1-b12d0c78ba52",
   "metadata": {},
   "outputs": [
    {
     "name": "stdout",
     "output_type": "stream",
     "text": [
      "Data berhasil disimpan ke output_data.xlsx\n"
     ]
    }
   ],
   "source": [
    "df_excel.to_excel('output_data.xlsx', index=False)\n",
    "print(\"Data berhasil disimpan ke output_data.xlsx\")"
   ]
  },
  {
   "cell_type": "markdown",
   "id": "c1cf29b5-db14-4080-a472-800feaad0c84",
   "metadata": {},
   "source": [
    "# Menyimpan DataFrame ke JSON"
   ]
  },
  {
   "cell_type": "code",
   "execution_count": 7,
   "id": "fa88a01a-9de8-4e52-8e79-8a3dc14a26b6",
   "metadata": {},
   "outputs": [
    {
     "name": "stdout",
     "output_type": "stream",
     "text": [
      "Data berhasil disimpan ke output_data.json\n"
     ]
    }
   ],
   "source": [
    "df_csv.to_json('output_data.json', orient='records')\n",
    "print(\"Data berhasil disimpan ke output_data.json\")"
   ]
  },
  {
   "cell_type": "markdown",
   "id": "f077312c-a441-43e4-aa2a-10f849af57a9",
   "metadata": {},
   "source": [
    "# Eksplorasi Data"
   ]
  },
  {
   "cell_type": "markdown",
   "id": "48cc46ed-1be7-4d0b-b9e8-a59b2b99ee7b",
   "metadata": {},
   "source": [
    "## Menampilkan Informasi Dataset"
   ]
  },
  {
   "cell_type": "code",
   "execution_count": 8,
   "id": "9726a24b-35aa-4e42-8b23-7ea35a2b9848",
   "metadata": {},
   "outputs": [
    {
     "name": "stdout",
     "output_type": "stream",
     "text": [
      "\n",
      "=== Informasi Dataset CSV ===\n",
      "<class 'pandas.core.frame.DataFrame'>\n",
      "RangeIndex: 150 entries, 0 to 149\n",
      "Data columns (total 5 columns):\n",
      " #   Column        Non-Null Count  Dtype  \n",
      "---  ------        --------------  -----  \n",
      " 0   sepal.length  150 non-null    float64\n",
      " 1   sepal.width   150 non-null    float64\n",
      " 2   petal.length  150 non-null    float64\n",
      " 3   petal.width   150 non-null    float64\n",
      " 4   variety       150 non-null    object \n",
      "dtypes: float64(4), object(1)\n",
      "memory usage: 6.0+ KB\n",
      "None\n"
     ]
    }
   ],
   "source": [
    "print(\"\\n=== Informasi Dataset CSV ===\")\n",
    "print(df_csv.info())"
   ]
  },
  {
   "cell_type": "markdown",
   "id": "da60ce8d-38bc-4fc7-9991-627682882c15",
   "metadata": {},
   "source": [
    "## Melihat Statistik Dasar"
   ]
  },
  {
   "cell_type": "code",
   "execution_count": null,
   "id": "58a886e7-7568-48a4-b2e5-300bbaa4becc",
   "metadata": {},
   "outputs": [],
   "source": []
  }
 ],
 "metadata": {
  "kernelspec": {
   "display_name": "Python 3 (ipykernel)",
   "language": "python",
   "name": "python3"
  },
  "language_info": {
   "codemirror_mode": {
    "name": "ipython",
    "version": 3
   },
   "file_extension": ".py",
   "mimetype": "text/x-python",
   "name": "python",
   "nbconvert_exporter": "python",
   "pygments_lexer": "ipython3",
   "version": "3.9.20"
  }
 },
 "nbformat": 4,
 "nbformat_minor": 5
}
