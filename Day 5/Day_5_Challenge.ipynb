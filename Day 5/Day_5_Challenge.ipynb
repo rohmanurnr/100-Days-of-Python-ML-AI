{
 "cells": [
  {
   "cell_type": "markdown",
   "id": "5988a16f-0b37-41e1-9d1d-38eb7899666b",
   "metadata": {},
   "source": [
    "# Install Pandas"
   ]
  },
  {
   "cell_type": "code",
   "execution_count": 1,
   "id": "173fcf6e-43fd-4c72-931d-0d335ca6dd20",
   "metadata": {},
   "outputs": [
    {
     "name": "stdout",
     "output_type": "stream",
     "text": [
      "Requirement already satisfied: pandas in c:\\users\\hp\\miniconda3\\lib\\site-packages (2.2.3)\n",
      "Requirement already satisfied: python-dateutil>=2.8.2 in c:\\users\\hp\\miniconda3\\lib\\site-packages (from pandas) (2.9.0.post0)\n",
      "Requirement already satisfied: tzdata>=2022.7 in c:\\users\\hp\\miniconda3\\lib\\site-packages (from pandas) (2024.2)\n",
      "Requirement already satisfied: numpy>=1.22.4 in c:\\users\\hp\\miniconda3\\lib\\site-packages (from pandas) (2.0.2)\n",
      "Requirement already satisfied: pytz>=2020.1 in c:\\users\\hp\\miniconda3\\lib\\site-packages (from pandas) (2024.1)\n",
      "Requirement already satisfied: six>=1.5 in c:\\users\\hp\\miniconda3\\lib\\site-packages (from python-dateutil>=2.8.2->pandas) (1.16.0)\n",
      "Note: you may need to restart the kernel to use updated packages.\n"
     ]
    }
   ],
   "source": [
    "pip install pandas"
   ]
  },
  {
   "cell_type": "markdown",
   "id": "b77552b6-f518-4bb3-b0ab-980b64d0b135",
   "metadata": {},
   "source": [
    "# Membuat DataFrame"
   ]
  },
  {
   "cell_type": "code",
   "execution_count": 3,
   "id": "d017af0a-28fb-4866-8854-61744b5c5b3a",
   "metadata": {},
   "outputs": [
    {
     "name": "stdout",
     "output_type": "stream",
     "text": [
      "    Nama  Umur      Kota\n",
      "0    Ayu    21   Jakarta\n",
      "1   Budi    22  Surabaya\n",
      "2  Citra    20   Bandung\n"
     ]
    }
   ],
   "source": [
    "import pandas as pd\n",
    "\n",
    "#Membuat DataFrame\n",
    "data = {'Nama': ['Ayu', 'Budi', 'Citra'],\n",
    "\t'Umur': [21, 22, 20],\n",
    "\t'Kota' : ['Jakarta', 'Surabaya', 'Bandung']}\n",
    "\n",
    "df = pd.DataFrame(data)\n",
    "print(df)"
   ]
  },
  {
   "cell_type": "markdown",
   "id": "da116683-e8da-4ec2-bc1a-8e62b7090bf9",
   "metadata": {},
   "source": [
    "# Eksplorasi Data"
   ]
  },
  {
   "cell_type": "code",
   "execution_count": 5,
   "id": "aba9c132-afe6-4a76-ae39-2fcf80c3b7f4",
   "metadata": {},
   "outputs": [
    {
     "name": "stdout",
     "output_type": "stream",
     "text": [
      "    Nama  Umur      Kota\n",
      "0    Ayu    21   Jakarta\n",
      "1   Budi    22  Surabaya\n",
      "2  Citra    20   Bandung\n"
     ]
    }
   ],
   "source": [
    "#Melihat 5 baris pertama\n",
    "print(df.head())"
   ]
  },
  {
   "cell_type": "code",
   "execution_count": 6,
   "id": "49c1e30e-0b92-45e2-8c62-9a3b524f4833",
   "metadata": {},
   "outputs": [
    {
     "name": "stdout",
     "output_type": "stream",
     "text": [
      "<class 'pandas.core.frame.DataFrame'>\n",
      "RangeIndex: 3 entries, 0 to 2\n",
      "Data columns (total 3 columns):\n",
      " #   Column  Non-Null Count  Dtype \n",
      "---  ------  --------------  ----- \n",
      " 0   Nama    3 non-null      object\n",
      " 1   Umur    3 non-null      int64 \n",
      " 2   Kota    3 non-null      object\n",
      "dtypes: int64(1), object(2)\n",
      "memory usage: 200.0+ bytes\n",
      "None\n"
     ]
    }
   ],
   "source": [
    "#Informasi umum data\n",
    "print(df.info())"
   ]
  },
  {
   "cell_type": "code",
   "execution_count": 9,
   "id": "856251a1-ecab-418c-b68c-5be7f400c90c",
   "metadata": {},
   "outputs": [
    {
     "name": "stdout",
     "output_type": "stream",
     "text": [
      "       Umur\n",
      "count   3.0\n",
      "mean   21.0\n",
      "std     1.0\n",
      "min    20.0\n",
      "25%    20.5\n",
      "50%    21.0\n",
      "75%    21.5\n",
      "max    22.0\n"
     ]
    }
   ],
   "source": [
    "#Statistik deskriptif\n",
    "print(df.describe())"
   ]
  },
  {
   "cell_type": "markdown",
   "id": "0b18a20f-5719-418a-b714-9f5a6646e3e4",
   "metadata": {},
   "source": [
    "# Manipulasi Data"
   ]
  },
  {
   "cell_type": "code",
   "execution_count": 11,
   "id": "a4a8230e-97cf-4a88-b7c6-669653c55636",
   "metadata": {},
   "outputs": [
    {
     "name": "stdout",
     "output_type": "stream",
     "text": [
      "0      Ayu\n",
      "1     Budi\n",
      "2    Citra\n",
      "Name: Nama, dtype: object\n",
      "   Nama  Umur      Kota\n",
      "0   Ayu    21   Jakarta\n",
      "1  Budi    22  Surabaya\n"
     ]
    }
   ],
   "source": [
    "#Akses kolom ‘Nama’\n",
    "print(df['Nama'])\n",
    "\n",
    "#Filter: Data dengan umur > 20\n",
    "filtered = df[df['Umur'] > 20]\n",
    "print(filtered)"
   ]
  },
  {
   "cell_type": "markdown",
   "id": "f6ed6f50-d12d-4a4c-a12c-13d2c022541c",
   "metadata": {},
   "source": [
    "# Challenge"
   ]
  },
  {
   "cell_type": "raw",
   "id": "6c076bd3-58a3-4b29-9197-0b4a0dbd4bc6",
   "metadata": {},
   "source": [
    "Buat DataFrame sederhana yang memmuat data favoritmu (contoh: daftar buku, film, atau makanan)\n",
    "Gunakan fungsi Pandas untuk:\n",
    "- Melihat data menggunakan ```.head()``` dan ```.info()```\n",
    "- Menampilkan statistik deskriptif dengan ```.describe()```\n",
    "- Melakukan filter data berdasarkan satu kondisi, lalu tampilkan hasilnya\t"
   ]
  },
  {
   "cell_type": "code",
   "execution_count": 14,
   "id": "f514b43c-6286-4e25-8019-aa2ccda5829a",
   "metadata": {},
   "outputs": [
    {
     "name": "stdout",
     "output_type": "stream",
     "text": [
      "             Judul Kategori  Rating\n",
      "0    The Alchemist     Buku     9.0\n",
      "1        Inception     Film     8.8\n",
      "2      Nasi Goreng  Makanan     9.5\n",
      "3  The Dark Knight     Film     9.1\n",
      "4            Sushi  Makanan     8.6\n",
      "<class 'pandas.core.frame.DataFrame'>\n",
      "RangeIndex: 5 entries, 0 to 4\n",
      "Data columns (total 3 columns):\n",
      " #   Column    Non-Null Count  Dtype  \n",
      "---  ------    --------------  -----  \n",
      " 0   Judul     5 non-null      object \n",
      " 1   Kategori  5 non-null      object \n",
      " 2   Rating    5 non-null      float64\n",
      "dtypes: float64(1), object(2)\n",
      "memory usage: 248.0+ bytes\n",
      "None\n",
      "         Rating\n",
      "count  5.000000\n",
      "mean   9.000000\n",
      "std    0.339116\n",
      "min    8.600000\n",
      "25%    8.800000\n",
      "50%    9.000000\n",
      "75%    9.100000\n",
      "max    9.500000\n",
      "             Judul Kategori  Rating\n",
      "2      Nasi Goreng  Makanan     9.5\n",
      "3  The Dark Knight     Film     9.1\n"
     ]
    }
   ],
   "source": [
    "import pandas as pd\n",
    "\n",
    "data = {\n",
    "\t\t'Judul' : ['The Alchemist', 'Inception', 'Nasi Goreng', 'The Dark Knight', 'Sushi'],\n",
    "\t\t'Kategori': ['Buku', 'Film', 'Makanan', 'Film', 'Makanan'],\n",
    "\t\t'Rating': [9.0, 8.8, 9.5, 9.1, 8.6]\n",
    "\t\t}\n",
    "df = pd.DataFrame(data)\n",
    "\n",
    "#Menampilkan data 5 baris pertama\n",
    "print(df.head())\n",
    "\n",
    "#Menampilkan informasi struktur data\n",
    "print(df.info())\n",
    "\n",
    "#Menampilkan statistik deskriptif\n",
    "print(df.describe())\n",
    "\n",
    "#Filter data berdasarkan kondisi rating > 9.0\n",
    "filtered_df = df[df['Rating'] > 9.0]\n",
    "print(filtered_df)"
   ]
  }
 ],
 "metadata": {
  "kernelspec": {
   "display_name": "Python 3 (ipykernel)",
   "language": "python",
   "name": "python3"
  },
  "language_info": {
   "codemirror_mode": {
    "name": "ipython",
    "version": 3
   },
   "file_extension": ".py",
   "mimetype": "text/x-python",
   "name": "python",
   "nbconvert_exporter": "python",
   "pygments_lexer": "ipython3",
   "version": "3.9.20"
  }
 },
 "nbformat": 4,
 "nbformat_minor": 5
}
