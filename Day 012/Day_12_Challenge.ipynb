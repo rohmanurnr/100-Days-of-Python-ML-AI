{
 "cells": [
  {
   "cell_type": "code",
   "execution_count": 5,
   "id": "ea3c1669-c1e2-44c9-a1d0-dc3972076932",
   "metadata": {},
   "outputs": [
    {
     "name": "stdout",
     "output_type": "stream",
     "text": [
      "Dataset Asli:\n",
      "     Nama  Nilai Kelas\n",
      "0    Ayu   78.0     A\n",
      "1   Budi   85.0     B\n",
      "2  Citra   62.0     A\n",
      "3   Dedi    NaN     B\n",
      "4    Eka   88.0     A\n",
      "5    Ayu   78.0     A\n",
      "6   Fani    NaN  None\n",
      "7   None   90.0     B\n",
      "8  Indah   85.0     B\n",
      "9   Joko   81.0     A\n"
     ]
    }
   ],
   "source": [
    "import pandas as pd\n",
    "\n",
    "data = {\n",
    "    'Nama': ['Ayu', 'Budi', 'Citra', 'Dedi', 'Eka', 'Ayu', 'Fani', None, 'Indah', 'Joko'],\n",
    "    'Nilai': [78, 85, 62, None, 88, 78, None, 90, 85, 81],\n",
    "    'Kelas': ['A', 'B', 'A', 'B', 'A', 'A', None, 'B', 'B', 'A']\n",
    "}\n",
    "df = pd.DataFrame(data)\n",
    "print(\"Dataset Asli:\\n\", df)"
   ]
  },
  {
   "cell_type": "code",
   "execution_count": 6,
   "id": "362a7538-2834-4b46-bff6-e29f4191ff6c",
   "metadata": {},
   "outputs": [
    {
     "name": "stdout",
     "output_type": "stream",
     "text": [
      "\n",
      "=== Missing Values ===\n",
      "Nama     1\n",
      "Nilai    2\n",
      "Kelas    1\n",
      "dtype: int64\n"
     ]
    }
   ],
   "source": [
    "print(\"\\n=== Missing Values ===\")\n",
    "print(df.isnull().sum()) "
   ]
  },
  {
   "cell_type": "code",
   "execution_count": 7,
   "id": "aeb33279-8648-442c-918b-2f4c6721540c",
   "metadata": {},
   "outputs": [
    {
     "name": "stdout",
     "output_type": "stream",
     "text": [
      "\n",
      "Dataset setelah Menghapus Missing Values:\n",
      "     Nama  Nilai Kelas\n",
      "0    Ayu   78.0     A\n",
      "1   Budi   85.0     B\n",
      "2  Citra   62.0     A\n",
      "4    Eka   88.0     A\n",
      "5    Ayu   78.0     A\n",
      "8  Indah   85.0     B\n",
      "9   Joko   81.0     A\n",
      "\n",
      "Dataset setelah Imputasi Missing Values:\n",
      "     Nama   Nilai      Kelas\n",
      "0    Ayu  78.000          A\n",
      "1   Budi  85.000          B\n",
      "2  Citra  62.000          A\n",
      "3   Dedi  80.875          B\n",
      "4    Eka  88.000          A\n",
      "5    Ayu  78.000          A\n",
      "6   Fani  80.875  Tidak Ada\n",
      "7   None  90.000          B\n",
      "8  Indah  85.000          B\n",
      "9   Joko  81.000          A\n"
     ]
    }
   ],
   "source": [
    "df_cleaned = df.dropna()\n",
    "print(\"\\nDataset setelah Menghapus Missing Values:\\n\", df_cleaned)\n",
    "\n",
    "df['Nilai'] = df['Nilai'].fillna(df['Nilai'].mean())\n",
    "df['Kelas'] = df['Kelas'].fillna('Tidak Ada')\n",
    "print(\"\\nDataset setelah Imputasi Missing Values:\\n\", df)"
   ]
  },
  {
   "cell_type": "code",
   "execution_count": 8,
   "id": "2c6090b4-5bee-44a4-8990-897a11d71be0",
   "metadata": {},
   "outputs": [
    {
     "name": "stdout",
     "output_type": "stream",
     "text": [
      "\n",
      "=== Data Duplikat ===\n",
      "  Nama  Nilai Kelas\n",
      "5  Ayu   78.0     A\n"
     ]
    }
   ],
   "source": [
    "print(\"\\n=== Data Duplikat ===\")\n",
    "print(df[df.duplicated()])"
   ]
  },
  {
   "cell_type": "code",
   "execution_count": 10,
   "id": "d2028e17-1ee9-47f6-9f0f-f3ae97087f48",
   "metadata": {},
   "outputs": [
    {
     "name": "stdout",
     "output_type": "stream",
     "text": [
      "\n",
      "Dataset setelah Menghapus Duplikat:\n",
      "     Nama   Nilai      Kelas\n",
      "0    Ayu  78.000          A\n",
      "1   Budi  85.000          B\n",
      "2  Citra  62.000          A\n",
      "3   Dedi  80.875          B\n",
      "4    Eka  88.000          A\n",
      "6   Fani  80.875  Tidak Ada\n",
      "7   None  90.000          B\n",
      "8  Indah  85.000          B\n",
      "9   Joko  81.000          A\n"
     ]
    }
   ],
   "source": [
    "df = df.drop_duplicates()\n",
    "print(\"\\nDataset setelah Menghapus Duplikat:\\n\", df)"
   ]
  },
  {
   "cell_type": "code",
   "execution_count": 11,
   "id": "92ced88e-ffe2-4424-b29b-1b0f957201fb",
   "metadata": {},
   "outputs": [
    {
     "name": "stdout",
     "output_type": "stream",
     "text": [
      "\n",
      "Validasi Data:\n",
      "Jumlah missing values per kolom:\n",
      " Nama     1\n",
      "Nilai    0\n",
      "Kelas    0\n",
      "dtype: int64\n",
      "Jumlah baris duplikat: 0\n"
     ]
    }
   ],
   "source": [
    "print(\"\\nValidasi Data:\")\n",
    "print(\"Jumlah missing values per kolom:\\n\", df.isnull().sum())\n",
    "print(\"Jumlah baris duplikat:\", df.duplicated().sum())"
   ]
  }
 ],
 "metadata": {
  "kernelspec": {
   "display_name": "Python 3 (ipykernel)",
   "language": "python",
   "name": "python3"
  },
  "language_info": {
   "codemirror_mode": {
    "name": "ipython",
    "version": 3
   },
   "file_extension": ".py",
   "mimetype": "text/x-python",
   "name": "python",
   "nbconvert_exporter": "python",
   "pygments_lexer": "ipython3",
   "version": "3.9.20"
  }
 },
 "nbformat": 4,
 "nbformat_minor": 5
}
